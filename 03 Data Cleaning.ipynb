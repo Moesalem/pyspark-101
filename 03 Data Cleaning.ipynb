{
 "cells": [
  {
   "cell_type": "markdown",
   "metadata": {},
   "source": [
    "# PySpark training for data engineers\n",
    "## 03. Data Cleaning\n",
    "\n",
    "### Goal\n",
    "\n",
    "* Read the RDD created from the XML in the previous notebook and clean up the contents.\n",
    "* Read the RDD created from the CSV and map the content to useful data."
   ]
  },
  {
   "cell_type": "markdown",
   "metadata": {},
   "source": [
    "### Highlights\n",
    "\n",
    "* `spark.pickleFile()` reads a pickle into an RDD\n",
    "* `rdd.map()` applies a function to each row of an RDD\n",
    "* Inside the `map()` a lambda-function can be used or a explicit defined function\n",
    "\n",
    "### Implementation"
   ]
  },
  {
   "cell_type": "code",
   "execution_count": 1,
   "metadata": {},
   "outputs": [],
   "source": [
    "from pyspark import SparkConf, SparkContext\n",
    "config = SparkConf().setMaster('local')\n",
    "spark = SparkContext.getOrCreate(conf=config)"
   ]
  },
  {
   "cell_type": "code",
   "execution_count": 2,
   "metadata": {},
   "outputs": [
    {
     "data": {
      "text/plain": [
       "'/home/jitsejan/itility/pyspark-101'"
      ]
     },
     "execution_count": 2,
     "metadata": {},
     "output_type": "execute_result"
    }
   ],
   "source": [
    "pwd"
   ]
  },
  {
   "cell_type": "markdown",
   "metadata": {},
   "source": [
    "Load data from previous step. Note that the RDD is converted to a list object."
   ]
  },
  {
   "cell_type": "code",
   "execution_count": 3,
   "metadata": {},
   "outputs": [],
   "source": [
    "xmlrdd = spark.pickleFile('xml-pickle-file/')"
   ]
  },
  {
   "cell_type": "code",
   "execution_count": 4,
   "metadata": {},
   "outputs": [
    {
     "data": {
      "text/plain": [
       "[('file:/home/jitsejan/itility/pyspark-101/test.xml',\n",
       "  '<teststructure>\\n    <info>testfile</info>\\n    <outerlist>\\n        <elt>\\n            <subelement>One</subelement>\\n        </elt>\\n        <elt>\\n            <subelement>Two</subelement>\\n        </elt>\\n    </outerlist>\\n</teststructure>')]"
      ]
     },
     "execution_count": 4,
     "metadata": {},
     "output_type": "execute_result"
    }
   ],
   "source": [
    "xmlrdd.collect()"
   ]
  },
  {
   "cell_type": "code",
   "execution_count": 5,
   "metadata": {},
   "outputs": [],
   "source": [
    "def _parse(input):\n",
    "    # This function removes the filename from the RDD\n",
    "    filename, filecontent = input\n",
    "    output = filecontent\n",
    "    return filecontent"
   ]
  },
  {
   "cell_type": "code",
   "execution_count": 6,
   "metadata": {},
   "outputs": [
    {
     "data": {
      "text/plain": [
       "['<teststructure>\\n    <info>testfile</info>\\n    <outerlist>\\n        <elt>\\n            <subelement>One</subelement>\\n        </elt>\\n        <elt>\\n            <subelement>Two</subelement>\\n        </elt>\\n    </outerlist>\\n</teststructure>']"
      ]
     },
     "execution_count": 6,
     "metadata": {},
     "output_type": "execute_result"
    }
   ],
   "source": [
    "xmlrdd.map(_parse).collect()"
   ]
  },
  {
   "cell_type": "code",
   "execution_count": 7,
   "metadata": {},
   "outputs": [],
   "source": [
    "def _parse_remove_newline(input):\n",
    "    # This function removes the filename from the RDD and the newlines from the content\n",
    "    filename, filecontent = input\n",
    "    output = filecontent\n",
    "    return filecontent.replace('\\n', '')"
   ]
  },
  {
   "cell_type": "code",
   "execution_count": 8,
   "metadata": {},
   "outputs": [
    {
     "data": {
      "text/plain": [
       "['<teststructure>    <info>testfile</info>    <outerlist>        <elt>            <subelement>One</subelement>        </elt>        <elt>            <subelement>Two</subelement>        </elt>    </outerlist></teststructure>']"
      ]
     },
     "execution_count": 8,
     "metadata": {},
     "output_type": "execute_result"
    }
   ],
   "source": [
    "xmlrdd.map(_parse_remove_newline).collect()"
   ]
  },
  {
   "cell_type": "code",
   "execution_count": 9,
   "metadata": {},
   "outputs": [],
   "source": [
    "import xml.etree.ElementTree as ET"
   ]
  },
  {
   "cell_type": "code",
   "execution_count": 10,
   "metadata": {},
   "outputs": [
    {
     "data": {
      "text/plain": [
       "<xml.etree.ElementTree.ElementTree at 0x7f487004cef0>"
      ]
     },
     "execution_count": 10,
     "metadata": {},
     "output_type": "execute_result"
    }
   ],
   "source": [
    "root = ET.parse('test.xml')\n",
    "root"
   ]
  },
  {
   "cell_type": "markdown",
   "metadata": {},
   "source": [
    "Get a list of all the sub elements in a Pythonic way:"
   ]
  },
  {
   "cell_type": "code",
   "execution_count": 11,
   "metadata": {},
   "outputs": [
    {
     "data": {
      "text/plain": [
       "['One', 'Two']"
      ]
     },
     "execution_count": 11,
     "metadata": {},
     "output_type": "execute_result"
    }
   ],
   "source": [
    "[elem.text for elem in root.findall('outerlist/elt/subelement')]"
   ]
  },
  {
   "cell_type": "code",
   "execution_count": 12,
   "metadata": {},
   "outputs": [],
   "source": [
    "def _parse_xml(input):\n",
    "    # This function retrieves the root from the XML tree in the filecontent\n",
    "    _, filecontent = input\n",
    "    # Get the root of the XML document\n",
    "    root = ET.fromstring(filecontent.replace('\\n', ''))\n",
    "    # Find the information\n",
    "    info = root.find('info').text\n",
    "    # Find the subelements and return a list with dictionaries\n",
    "    return [{'text': subelem.text, 'info': info} for subelem in root.findall('outerlist/elt/subelement')]"
   ]
  },
  {
   "cell_type": "code",
   "execution_count": 13,
   "metadata": {
    "scrolled": true
   },
   "outputs": [],
   "source": [
    "xmlrdd = xmlrdd.flatMap(_parse_xml)"
   ]
  },
  {
   "cell_type": "code",
   "execution_count": 14,
   "metadata": {},
   "outputs": [
    {
     "data": {
      "text/plain": [
       "[{'text': 'One', 'info': 'testfile'}, {'text': 'Two', 'info': 'testfile'}]"
      ]
     },
     "execution_count": 14,
     "metadata": {},
     "output_type": "execute_result"
    }
   ],
   "source": [
    "xmlrdd.collect()"
   ]
  },
  {
   "cell_type": "code",
   "execution_count": 15,
   "metadata": {},
   "outputs": [],
   "source": [
    "xmlrdd.saveAsPickleFile('xml-pickle-03')"
   ]
  },
  {
   "cell_type": "markdown",
   "metadata": {},
   "source": [
    "### CSV"
   ]
  },
  {
   "cell_type": "code",
   "execution_count": 16,
   "metadata": {},
   "outputs": [],
   "source": [
    "csvrdd = spark.pickleFile('csv-pickle-file/')"
   ]
  },
  {
   "cell_type": "code",
   "execution_count": 17,
   "metadata": {},
   "outputs": [
    {
     "data": {
      "text/plain": [
       "[('file:/home/jitsejan/itility/pyspark-101/csvfile01.csv',\n",
       "  'john,doe,male,32\\njake,doe,male,16'),\n",
       " ('file:/home/jitsejan/itility/pyspark-101/csvfile02.csv',\n",
       "  'jane,doe,female,31\\njanet,doe,female,13')]"
      ]
     },
     "execution_count": 17,
     "metadata": {},
     "output_type": "execute_result"
    }
   ],
   "source": [
    "csvrdd.collect()"
   ]
  },
  {
   "cell_type": "markdown",
   "metadata": {},
   "source": [
    "We can also directly apply a lambda function in the mapping of the RDD. As we saw earlier, each row of an RDD after reading the files contains the tuple with filename and filecontent. In this case we say the row is `x` which means `x[1]` corresponds to the filecontent.\n",
    "\n",
    "Splitting by a comma seems to yield the wrong result:"
   ]
  },
  {
   "cell_type": "code",
   "execution_count": 18,
   "metadata": {},
   "outputs": [
    {
     "data": {
      "text/plain": [
       "[['john', 'doe', 'male', '32\\njake', 'doe', 'male', '16'],\n",
       " ['jane', 'doe', 'female', '31\\njanet', 'doe', 'female', '13']]"
      ]
     },
     "execution_count": 18,
     "metadata": {},
     "output_type": "execute_result"
    }
   ],
   "source": [
    "csvrdd.map(lambda x:x[1].split(',')).collect()"
   ]
  },
  {
   "cell_type": "markdown",
   "metadata": {},
   "source": [
    "We expect there would be four lines of data, not only two. As we can observe the new lines are not picked up and hence the two lines per CSV file are taken together. Let's try splitting by a new line character this time:"
   ]
  },
  {
   "cell_type": "code",
   "execution_count": 19,
   "metadata": {},
   "outputs": [
    {
     "data": {
      "text/plain": [
       "[['john,doe,male,32', 'jake,doe,male,16'],\n",
       " ['jane,doe,female,31', 'janet,doe,female,13']]"
      ]
     },
     "execution_count": 19,
     "metadata": {},
     "output_type": "execute_result"
    }
   ],
   "source": [
    "csvrdd.map(lambda x:x[1].split('\\n')).collect()"
   ]
  },
  {
   "cell_type": "markdown",
   "metadata": {},
   "source": [
    "Almost, but we want to split the elements on new rows, not on existing rows, so instead we will use `flatMap`:"
   ]
  },
  {
   "cell_type": "code",
   "execution_count": 20,
   "metadata": {},
   "outputs": [
    {
     "data": {
      "text/plain": [
       "['john,doe,male,32',\n",
       " 'jake,doe,male,16',\n",
       " 'jane,doe,female,31',\n",
       " 'janet,doe,female,13']"
      ]
     },
     "execution_count": 20,
     "metadata": {},
     "output_type": "execute_result"
    }
   ],
   "source": [
    "csvrdd = csvrdd.flatMap(lambda x:x[1].split('\\n'))\n",
    "csvrdd.collect()"
   ]
  },
  {
   "cell_type": "code",
   "execution_count": 21,
   "metadata": {},
   "outputs": [],
   "source": [
    "csvrdd.saveAsPickleFile('csv-pickle-03')"
   ]
  }
 ],
 "metadata": {
  "kernelspec": {
   "display_name": "Python 3",
   "language": "python",
   "name": "python3"
  },
  "language_info": {
   "codemirror_mode": {
    "name": "ipython",
    "version": 3
   },
   "file_extension": ".py",
   "mimetype": "text/x-python",
   "name": "python",
   "nbconvert_exporter": "python",
   "pygments_lexer": "ipython3",
   "version": "3.6.3"
  }
 },
 "nbformat": 4,
 "nbformat_minor": 2
}
