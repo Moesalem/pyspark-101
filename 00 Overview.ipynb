{
 "cells": [
  {
   "cell_type": "markdown",
   "metadata": {},
   "source": [
    "# PySpark training for data engineers\n",
    "\n",
    "<img src=\"https://spark.apache.org/docs/latest/api/python/_static/spark-logo-hd.png\" />\n",
    "\n",
    "## 00. Overview\n",
    "\n",
    "01. [Python development](01%20Python%20development.ipynb)\n",
    "02. [Data ingestion](02%20Data%20Ingestion.ipynb)\n",
    "03. [Data cleaning](03%20Data%20Cleaning.ipynb)\n",
    "04. [Data filtering](04%20Data%20Filtering.ipynb)\n",
    "05. [Data enriching](05%20Data%20Enriching.ipynb)\n",
    "06. [Data visualization](06%20Data%20visualization.ipynb)\n",
    "07. [Data storing](07%20Data%20Storing.ipynb)"
   ]
  }
 ],
 "metadata": {
  "kernelspec": {
   "display_name": "Python 3",
   "language": "python",
   "name": "python3"
  },
  "language_info": {
   "codemirror_mode": {
    "name": "ipython",
    "version": 3
   },
   "file_extension": ".py",
   "mimetype": "text/x-python",
   "name": "python",
   "nbconvert_exporter": "python",
   "pygments_lexer": "ipython3",
   "version": "3.6.4"
  }
 },
 "nbformat": 4,
 "nbformat_minor": 2
}
